{
 "cells": [
  {
   "cell_type": "markdown",
   "id": "92fde125",
   "metadata": {},
   "source": [
    "# Training data preparation\n",
    "\n",
    "Here we transform and resample empirical retinotopic maps estimated with [SamSrf](https://github.com/felenitaribeiro/pRFmodeling_SamSrf) for model training and selection. We will perform the following steps:\n",
    "\n",
    "1. We transform angle maps to range from 0-360 degrees;\n",
    "2. We sample data from native to fs_average space;\n",
    "3. We compare SamSrf fits against the ones provided by the HCP dataset."
   ]
  },
  {
   "cell_type": "markdown",
   "id": "1dba4f3b",
   "metadata": {},
   "source": [
    "## Import libraries and functions"
   ]
  },
  {
   "cell_type": "code",
   "execution_count": null,
   "id": "62af4dba",
   "metadata": {
    "vscode": {
     "languageId": "plaintext"
    }
   },
   "outputs": [],
   "source": [
    "import numpy as np\n",
    "import pandas as pd\n",
    "import nibabel as nib\n",
    "import sys\n",
    "import os\n",
    "import scipy\n",
    "import os.path as osp\n",
    "\n",
    "sys.path.append('..')\n",
    "\n",
    "from functions.visualization import retinotopic_map_plot\n",
    "#from deepRetinotopy_TheToolbox.utils.rois import ROI_WangParcelsPlusFovea as roi\n",
    "from ipywidgets import interact, Dropdown"
   ]
  },
  {
   "cell_type": "markdown",
   "id": "55ae0d6b",
   "metadata": {},
   "source": [
    "## 1. Transform polar angle maps and resample data"
   ]
  },
  {
   "cell_type": "markdown",
   "id": "9542e74b",
   "metadata": {},
   "source": [
    "Here we transform polar angle maps to range from 0 to 360 degrees, where the right hemisphere maps go roughly from 90 to 270 degrees. We will also resample data from the native space to 32k_fs_LR space."
   ]
  },
  {
   "cell_type": "code",
   "execution_count": null,
   "id": "fe7cc09f",
   "metadata": {
    "vscode": {
     "languageId": "plaintext"
    }
   },
   "outputs": [],
   "source": [
    "!bash ./scripts/hcp_samsrf.sh"
   ]
  },
  {
   "cell_type": "markdown",
   "id": "5a2a74a3",
   "metadata": {},
   "source": [
    "## 2. Compare SamSrf fits vs AnalyzePrf fits"
   ]
  },
  {
   "cell_type": "markdown",
   "id": "372801d0",
   "metadata": {},
   "source": []
  }
 ],
 "metadata": {
  "language_info": {
   "name": "python"
  }
 },
 "nbformat": 4,
 "nbformat_minor": 5
}
