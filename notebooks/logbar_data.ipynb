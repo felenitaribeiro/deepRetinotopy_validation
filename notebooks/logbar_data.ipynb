{
 "cells": [
  {
   "cell_type": "code",
   "execution_count": 1,
   "metadata": {},
   "outputs": [],
   "source": [
    "import numpy as np\n",
    "import pandas as pd\n",
    "import nibabel as nib\n",
    "import random\n",
    "import sys\n",
    "import os\n",
    "import scipy\n",
    "import os.path as osp\n",
    "\n",
    "sys.path.append('..')\n",
    "\n",
    "from functions.visualization import polarAngle_plot, signMap_plot\n",
    "from ipywidgets import interact, Dropdown"
   ]
  },
  {
   "cell_type": "code",
   "execution_count": 3,
   "metadata": {},
   "outputs": [],
   "source": [
    "def transform(path):\n",
    "    \"\"\"\n",
    "    Transform the polar angle maps from -180 to 180 degrees where the origin in the positive y-axis, to 0 to 360 degrees where\n",
    "    the origin is the positive x-axis.\n",
    "    \n",
    "    Parameters\n",
    "    ----------\n",
    "    path : str\n",
    "        The path to the freesurfer directory.\n",
    "        \n",
    "    Returns\n",
    "    -------\n",
    "    numpy.ndarray\n",
    "        The transformed polar angle in degrees.\n",
    "    \"\"\"\n",
    "\n",
    "    subjects = os.listdir(path)\n",
    "    index_sub = subjects.index('processed') # to edit\n",
    "    subjects.pop(index_sub)\n",
    "    for hemisphere in ['lh', 'rh']:\n",
    "        for subject in subjects:\n",
    "            data = nib.load(path + '/'+ subject + '/surf/' + subject +\n",
    "                                    '.empirical_polarAngle.' + hemisphere + '.32k_fs_LR.func.gii')\n",
    "            angle = data.agg_data()\n",
    "            \n",
    "            # Step 1: Negate the angle\n",
    "            angle = -angle\n",
    "            # Step 2: Add 180 degrees\n",
    "            angle = (angle + 180) % 360\n",
    "            # Step 3: Rotate by 90 degrees using a rotation matrix\n",
    "            x = np.cos(np.radians(angle))\n",
    "            y = np.sin(np.radians(angle))\n",
    "            rotation_matrix = np.array([[0, 1], [-1, 0]])\n",
    "            rotated_coords = rotation_matrix @ np.array([x, y])\n",
    "            rotated_angle = np.degrees(np.arctan2(rotated_coords[1], rotated_coords[0]))\n",
    "            final_angle = rotated_angle % 360\n",
    "\n",
    "            data.agg_data()[:] = final_angle\n",
    "            nib.save(data, path + '/' + subject + '/surf/' + subject +\n",
    "                                    '.empirical_polarAngle_test.' + hemisphere + '.32k_fs_LR.func.gii')\n",
    "    return "
   ]
  },
  {
   "cell_type": "code",
   "execution_count": 4,
   "metadata": {},
   "outputs": [],
   "source": [
    "transform('../datasets/ds004698/derivatives/freesurfer')"
   ]
  },
  {
   "cell_type": "code",
   "execution_count": 2,
   "metadata": {},
   "outputs": [
    {
     "data": {
      "application/vnd.jupyter.widget-view+json": {
       "model_id": "055c9d0ac9b64d44ad1695a4cd8d348d",
       "version_major": 2,
       "version_minor": 0
      },
      "text/plain": [
       "interactive(children=(Dropdown(description='subject_id', options=('sub-01', 'sub-02', 'sub-03', 'sub-04', 'sub…"
      ]
     },
     "metadata": {},
     "output_type": "display_data"
    }
   ],
   "source": [
    "path_to_freesurfer = '../datasets/ds004698/derivatives/freesurfer/'\n",
    "subject_id= os.listdir(path_to_freesurfer)\n",
    "index_sub = subject_id.index('processed') # to edit\n",
    "subject_id.pop(index_sub)\n",
    "prediction = Dropdown(options = ['average', 'empirical','model1', 'model2', 'model3', 'model4', 'model5'])\n",
    "binarize = Dropdown(options = [False, True])\n",
    "\n",
    "@interact(subject_id=subject_id, prediction = prediction, binarize = binarize)\n",
    "def plot1(subject_id,prediction, binarize):\n",
    "    return polarAngle_plot(subject_id, path_to_freesurfer, '../templates', prediction = prediction, binarize = binarize)"
   ]
  },
  {
   "cell_type": "code",
   "execution_count": 6,
   "metadata": {},
   "outputs": [
    {
     "data": {
      "application/vnd.jupyter.widget-view+json": {
       "model_id": "effb95cc8c2542c0997440d460756a04",
       "version_major": 2,
       "version_minor": 0
      },
      "text/plain": [
       "interactive(children=(Dropdown(description='subject_id', options=('sub-01', 'sub-02', 'sub-03', 'sub-04', 'sub…"
      ]
     },
     "metadata": {},
     "output_type": "display_data"
    }
   ],
   "source": [
    "@interact(subject_id=subject_id)\n",
    "def plot2(subject_id):\n",
    "    return signMap_plot(subject_id, path_to_freesurfer, '../templates', hemisphere = 'lh')\n"
   ]
  },
  {
   "cell_type": "code",
   "execution_count": null,
   "metadata": {},
   "outputs": [],
   "source": []
  }
 ],
 "metadata": {
  "kernelspec": {
   "display_name": "deepretinotopy_validation",
   "language": "python",
   "name": "python3"
  },
  "language_info": {
   "codemirror_mode": {
    "name": "ipython",
    "version": 3
   },
   "file_extension": ".py",
   "mimetype": "text/x-python",
   "name": "python",
   "nbconvert_exporter": "python",
   "pygments_lexer": "ipython3",
   "version": "3.8.20"
  }
 },
 "nbformat": 4,
 "nbformat_minor": 2
}
