{
 "cells": [
  {
   "cell_type": "markdown",
   "id": "92fde125",
   "metadata": {},
   "source": [
    "# Training data preparation\n",
    "\n",
    "Here we transform and resample empirical retinotopic maps estimated with [SamSrf](https://github.com/felenitaribeiro/pRFmodeling_SamSrf) for model training and model selection. We will perform the following steps:\n",
    "\n",
    "1. We transform angle maps to range from 0-360 degrees;\n",
    "2. We resample data from native to fs_average space;\n",
    "3. We compare SamSrf fits against the ones provided by the HCP dataset."
   ]
  },
  {
   "cell_type": "markdown",
   "id": "1dba4f3b",
   "metadata": {},
   "source": [
    "## Import libraries and functions"
   ]
  },
  {
   "cell_type": "code",
   "execution_count": 1,
   "id": "62af4dba",
   "metadata": {},
   "outputs": [],
   "source": [
    "import numpy as np\n",
    "import pandas as pd\n",
    "import nibabel as nib\n",
    "import sys\n",
    "import os\n",
    "import scipy\n",
    "import os.path as osp\n",
    "\n",
    "sys.path.append('..')\n",
    "\n",
    "from functions.visualization import retinotopic_map_plot\n",
    "from deepRetinotopy_TheToolbox.utils.rois import ROI_WangParcelsPlusFovea as roi\n",
    "from functions.datasets import RetinotopyData_training\n",
    "from ipywidgets import interact, Dropdown"
   ]
  },
  {
   "cell_type": "markdown",
   "id": "55ae0d6b",
   "metadata": {},
   "source": [
    "## 1. Transform polar angle maps and resample data"
   ]
  },
  {
   "cell_type": "markdown",
   "id": "9542e74b",
   "metadata": {},
   "source": [
    "Here we transform polar angle maps to range from 0 to 360 degrees, where the right hemisphere maps go roughly from 90 to 270 degrees. We will also resample data from the native space to 32k_fs_LR space."
   ]
  },
  {
   "cell_type": "code",
   "execution_count": null,
   "id": "fe7cc09f",
   "metadata": {},
   "outputs": [],
   "source": [
    "!bash ./scripts/hcp_samsrf.sh"
   ]
  },
  {
   "cell_type": "markdown",
   "id": "5a2a74a3",
   "metadata": {},
   "source": [
    "## 2. Compare SamSrf fits vs AnalyzePrf fits"
   ]
  },
  {
   "cell_type": "code",
   "execution_count": null,
   "id": "47ba7604",
   "metadata": {},
   "outputs": [],
   "source": [
    "from functions.evaluation import roi_earlyvisualcortex, create_mask\n",
    "## Region of interest used for training\n",
    "final_mask_L_ROI, final_mask_R_ROI, index_L_mask, index_R_mask = roi(['ROI'])\n",
    "## Early visual cortex\n",
    "final_mask_L, final_mask_R, index_L_mask, index_R_mask = roi_earlyvisualcortex(['ROI'])\n",
    "\n",
    "# Final mask\n",
    "ROI_masked, mask = create_mask(final_mask_L_ROI, final_mask_R_ROI, final_mask_L, final_mask_R, 'lh')\n",
    "mask = mask[ROI_masked == 1]\n",
    "\n",
    "path_to_freesurfer = '/home/ribeiro/Projects/deepRetinotopy_validation/HCP/freesurfer'\n",
    "\n",
    "\n",
    "samsrf_data = RetinotopyData_training(path_to_freesurfer, '100610', 'lh', ROI_masked, 'polarAngle', encoding_model='SamSrf')\n",
    "samsrf_data.apply_mask_to_maps(ROI_masked)\n",
    "samsrf_data.apply_mask_to_maps(mask)\n"
   ]
  },
  {
   "cell_type": "code",
   "execution_count": 5,
   "id": "4dd878ea",
   "metadata": {},
   "outputs": [
    {
     "data": {
      "text/plain": [
       "(1431,)"
      ]
     },
     "execution_count": 5,
     "metadata": {},
     "output_type": "execute_result"
    }
   ],
   "source": [
    "samsrf_data.empirical_map.shape"
   ]
  },
  {
   "cell_type": "markdown",
   "id": "372801d0",
   "metadata": {},
   "source": []
  }
 ],
 "metadata": {
  "kernelspec": {
   "display_name": "deepretinotopy_validation",
   "language": "python",
   "name": "python3"
  },
  "language_info": {
   "codemirror_mode": {
    "name": "ipython",
    "version": 3
   },
   "file_extension": ".py",
   "mimetype": "text/x-python",
   "name": "python",
   "nbconvert_exporter": "python",
   "pygments_lexer": "ipython3",
   "version": "3.8.20"
  }
 },
 "nbformat": 4,
 "nbformat_minor": 5
}
