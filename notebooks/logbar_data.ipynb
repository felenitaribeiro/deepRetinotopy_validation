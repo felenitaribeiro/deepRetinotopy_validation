{
 "cells": [
  {
   "cell_type": "markdown",
   "metadata": {},
   "source": [
    "# Log-bar data"
   ]
  },
  {
   "cell_type": "code",
   "execution_count": 1,
   "metadata": {},
   "outputs": [],
   "source": [
    "import numpy as np\n",
    "import pandas as pd\n",
    "import nibabel as nib\n",
    "import random\n",
    "import sys\n",
    "import os\n",
    "import scipy\n",
    "import os.path as osp\n",
    "import matplotlib.pyplot as plt\n",
    "import seaborn as sns\n",
    "\n",
    "sys.path.append('..')\n",
    "\n",
    "from functions.visualization import retinotopic_map_plot\n",
    "from ipywidgets import interact, Dropdown\n",
    "from functions.evaluation import predicted_vs_empirical, return_list_of_subs, transform_polarangle\n",
    "from deepRetinotopy_TheToolbox.utils.rois import ROI_WangParcelsPlusFovea as roi\n"
   ]
  },
  {
   "cell_type": "markdown",
   "metadata": {},
   "source": [
    "## Visualize empirical and predicted maps"
   ]
  },
  {
   "cell_type": "code",
   "execution_count": 4,
   "metadata": {},
   "outputs": [
    {
     "data": {
      "application/vnd.jupyter.widget-view+json": {
       "model_id": "36b6455c365642ab9114ab52312d92fe",
       "version_major": 2,
       "version_minor": 0
      },
      "text/plain": [
       "interactive(children=(Dropdown(description='subject_id', options=('sub-01', 'sub-02', 'sub-03', 'sub-04', 'sub…"
      ]
     },
     "metadata": {},
     "output_type": "display_data"
    }
   ],
   "source": [
    "path_to_freesurfer = '/BULK/LABDATA/openneuro/logbar-updated/ds004698/derivatives/freesurfer/'\n",
    "subject_id = os.listdir(path_to_freesurfer)\n",
    "if 'processed' in subject_id:\n",
    "    subject_id.remove('processed')\n",
    "subject_id.sort()\n",
    "\n",
    "prediction = Dropdown(options = ['empirical',\n",
    "                                 'model'])\n",
    "retinotopic_map = ['polarAngle', 'eccentricity', 'pRFsize']\n",
    "binarize = Dropdown(options = [False, True])\n",
    "hemisphere = Dropdown(options = ['lh', 'rh'])\n",
    "\n",
    "@interact(subject_id=subject_id, prediction = prediction, \n",
    "          binarize = binarize, retinotopic_map = retinotopic_map,\n",
    "          hemisphere = hemisphere)\n",
    "def plot1(subject_id,prediction, binarize, retinotopic_map, hemisphere):\n",
    "    return retinotopic_map_plot(subject_id, path_to_freesurfer, '../templates',\n",
    "                                 prediction = prediction, binarize = binarize,\n",
    "                                 retinotopic_map = retinotopic_map, hemisphere = hemisphere, dataset = 'logbar', experiment='logbar')"
   ]
  },
  {
   "cell_type": "markdown",
   "metadata": {},
   "source": [
    "## Generate empirical vs. predicted values plots"
   ]
  },
  {
   "cell_type": "code",
   "execution_count": 2,
   "metadata": {},
   "outputs": [
    {
     "name": "stdout",
     "output_type": "stream",
     "text": [
      "Region of interest: earlyvisualcortex\n",
      "polarAngle\n"
     ]
    },
    {
     "ename": "ValueError",
     "evalue": "Invalid map type specified.",
     "output_type": "error",
     "traceback": [
      "\u001b[0;31m---------------------------------------------------------------------------\u001b[0m",
      "\u001b[0;31mValueError\u001b[0m                                Traceback (most recent call last)",
      "Cell \u001b[0;32mIn[2], line 8\u001b[0m\n\u001b[1;32m      6\u001b[0m \u001b[38;5;28;01mfor\u001b[39;00m threshold \u001b[38;5;129;01min\u001b[39;00m [\u001b[38;5;241m0.1\u001b[39m]:\n\u001b[1;32m      7\u001b[0m         \u001b[38;5;28;01mfor\u001b[39;00m experiment \u001b[38;5;129;01min\u001b[39;00m [\u001b[38;5;124m'\u001b[39m\u001b[38;5;124mlogbar\u001b[39m\u001b[38;5;124m'\u001b[39m, \u001b[38;5;124m'\u001b[39m\u001b[38;5;124mfixedbar\u001b[39m\u001b[38;5;124m'\u001b[39m]:\n\u001b[0;32m----> 8\u001b[0m             \u001b[43mpredicted_vs_empirical\u001b[49m\u001b[43m(\u001b[49m\u001b[43mpath\u001b[49m\u001b[43m,\u001b[49m\u001b[43m \u001b[49m\u001b[43mdataset_name\u001b[49m\u001b[43m,\u001b[49m\u001b[43m \u001b[49m\u001b[43mretinotopic_maps\u001b[49m\u001b[43m,\u001b[49m\u001b[43m \u001b[49m\u001b[43mhemispheres\u001b[49m\u001b[43m \u001b[49m\u001b[38;5;241;43m=\u001b[39;49m\u001b[43m \u001b[49m\u001b[43mhemispheres\u001b[49m\u001b[43m,\u001b[49m\u001b[43m \u001b[49m\n\u001b[1;32m      9\u001b[0m \u001b[43m                                \u001b[49m\u001b[43mthreshold\u001b[49m\u001b[38;5;241;43m=\u001b[39;49m\u001b[43mthreshold\u001b[49m\u001b[43m,\u001b[49m\u001b[43m \u001b[49m\u001b[43mexperiment\u001b[49m\u001b[38;5;241;43m=\u001b[39;49m\u001b[43mexperiment\u001b[49m\u001b[43m,\u001b[49m\u001b[43m \u001b[49m\u001b[43mregion_of_interest\u001b[49m\u001b[43m \u001b[49m\u001b[38;5;241;43m=\u001b[39;49m\u001b[43m \u001b[49m\u001b[38;5;124;43m'\u001b[39;49m\u001b[38;5;124;43mearlyvisualcortex\u001b[39;49m\u001b[38;5;124;43m'\u001b[39;49m\u001b[43m)\u001b[49m\n",
      "File \u001b[0;32m~/Projects/deepRetinotopy_validation/notebooks/../functions/evaluation.py:482\u001b[0m, in \u001b[0;36mpredicted_vs_empirical\u001b[0;34m(path, dataset_name, retinotopic_maps, hemispheres, threshold, experiment, region_of_interest, pool_of_participants, plot_type)\u001b[0m\n\u001b[1;32m    480\u001b[0m \u001b[38;5;28;01melse\u001b[39;00m:\n\u001b[1;32m    481\u001b[0m     mask_final \u001b[38;5;241m=\u001b[39m mask\n\u001b[0;32m--> 482\u001b[0m predicted_map_hemi, empirical_map_hemi \u001b[38;5;241m=\u001b[39m \u001b[43mprocess_subjects\u001b[49m\u001b[43m(\u001b[49m\u001b[43mlist_of_sub_ids\u001b[49m\u001b[43m,\u001b[49m\u001b[43m \u001b[49m\u001b[43mpath\u001b[49m\u001b[43m,\u001b[49m\u001b[43m \u001b[49m\u001b[43mdataset_name\u001b[49m\u001b[43m,\u001b[49m\u001b[43m \u001b[49m\u001b[43mhemisphere\u001b[49m\u001b[43m,\u001b[49m\u001b[43m \u001b[49m\u001b[43mmask_final\u001b[49m\u001b[43m,\u001b[49m\u001b[43m \u001b[49m\u001b[43mretinotopic_map\u001b[49m\u001b[43m,\u001b[49m\u001b[43m \u001b[49m\u001b[43mexperiment\u001b[49m\u001b[43m,\u001b[49m\u001b[43m \u001b[49m\u001b[43mthreshold\u001b[49m\u001b[43m)\u001b[49m\n\u001b[1;32m    483\u001b[0m predicted_map \u001b[38;5;241m=\u001b[39m predicted_map \u001b[38;5;241m+\u001b[39m \u001b[38;5;28mlist\u001b[39m(np\u001b[38;5;241m.\u001b[39marray(predicted_map_hemi)\u001b[38;5;241m.\u001b[39mflatten())\n\u001b[1;32m    484\u001b[0m empirical_map \u001b[38;5;241m=\u001b[39m empirical_map \u001b[38;5;241m+\u001b[39m \u001b[38;5;28mlist\u001b[39m(np\u001b[38;5;241m.\u001b[39marray(empirical_map_hemi)\u001b[38;5;241m.\u001b[39mflatten())\n",
      "File \u001b[0;32m~/Projects/deepRetinotopy_validation/notebooks/../functions/evaluation.py:216\u001b[0m, in \u001b[0;36mprocess_subjects\u001b[0;34m(list_of_sub_ids, path, dataset_name, hemisphere, mask_final, retinotopic_map, experiment, threshold)\u001b[0m\n\u001b[1;32m    214\u001b[0m \u001b[38;5;28;01mif\u001b[39;00m dataset_name \u001b[38;5;241m==\u001b[39m \u001b[38;5;124m'\u001b[39m\u001b[38;5;124mlogbar\u001b[39m\u001b[38;5;124m'\u001b[39m:\n\u001b[1;32m    215\u001b[0m     \u001b[38;5;28mprint\u001b[39m(retinotopic_map)\n\u001b[0;32m--> 216\u001b[0m     data \u001b[38;5;241m=\u001b[39m \u001b[43mRetinotopyData_logbar\u001b[49m\u001b[43m(\u001b[49m\u001b[43mpath\u001b[49m\u001b[43m,\u001b[49m\u001b[43m \u001b[49m\u001b[43msub_id\u001b[49m\u001b[43m,\u001b[49m\u001b[43m \u001b[49m\u001b[43mhemisphere\u001b[49m\u001b[43m,\u001b[49m\u001b[43m \u001b[49m\u001b[43mretinotopic_map\u001b[49m\u001b[43m,\u001b[49m\u001b[43m \u001b[49m\u001b[43mexperiment\u001b[49m\u001b[38;5;241;43m=\u001b[39;49m\u001b[43mexperiment\u001b[49m\u001b[43m)\u001b[49m\n\u001b[1;32m    217\u001b[0m \u001b[38;5;28;01melse\u001b[39;00m:\n\u001b[1;32m    218\u001b[0m     data \u001b[38;5;241m=\u001b[39m RetinotopyData(path, sub_id, hemisphere, retinotopic_map)\n",
      "File \u001b[0;32m~/Projects/deepRetinotopy_validation/notebooks/../functions/datasets.py:221\u001b[0m, in \u001b[0;36mRetinotopyData_logbar.__init__\u001b[0;34m(self, path, subject_id, hemisphere, retinotopic_map, number_hemi_nodes, experiment)\u001b[0m\n\u001b[1;32m    219\u001b[0m \u001b[38;5;28mself\u001b[39m\u001b[38;5;241m.\u001b[39mexperiment \u001b[38;5;241m=\u001b[39m experiment\n\u001b[1;32m    220\u001b[0m \u001b[38;5;66;03m# Initialize the parent class with the provided parameters\u001b[39;00m\n\u001b[0;32m--> 221\u001b[0m \u001b[38;5;28;43msuper\u001b[39;49m\u001b[43m(\u001b[49m\u001b[43m)\u001b[49m\u001b[38;5;241;43m.\u001b[39;49m\u001b[38;5;21;43m__init__\u001b[39;49m\u001b[43m(\u001b[49m\u001b[43mpath\u001b[49m\u001b[43m,\u001b[49m\u001b[43m \u001b[49m\u001b[43msubject_id\u001b[49m\u001b[43m,\u001b[49m\u001b[43m \u001b[49m\u001b[43mhemisphere\u001b[49m\u001b[43m,\u001b[49m\u001b[43m \u001b[49m\n\u001b[1;32m    222\u001b[0m \u001b[43m                 \u001b[49m\u001b[43mretinotopic_map\u001b[49m\u001b[43m,\u001b[49m\u001b[43m \u001b[49m\u001b[43mnumber_hemi_nodes\u001b[49m\u001b[43m)\u001b[49m\n\u001b[1;32m    223\u001b[0m \u001b[38;5;66;03m# Load maps during initialization\u001b[39;00m\n\u001b[1;32m    224\u001b[0m \u001b[38;5;28mself\u001b[39m\u001b[38;5;241m.\u001b[39mpredicted_map \u001b[38;5;241m=\u001b[39m \u001b[38;5;28mself\u001b[39m\u001b[38;5;241m.\u001b[39m_load_map(\u001b[38;5;124m\"\u001b[39m\u001b[38;5;124mpredicted\u001b[39m\u001b[38;5;124m\"\u001b[39m)\n",
      "File \u001b[0;32m~/Projects/deepRetinotopy_validation/notebooks/../functions/datasets.py:27\u001b[0m, in \u001b[0;36mRetinotopyData.__init__\u001b[0;34m(self, path, subject_id, hemisphere, retinotopic_map, number_hemi_nodes, model, model_index, split_half)\u001b[0m\n\u001b[1;32m     25\u001b[0m \u001b[38;5;28mself\u001b[39m\u001b[38;5;241m.\u001b[39mempirical_map \u001b[38;5;241m=\u001b[39m \u001b[38;5;28mself\u001b[39m\u001b[38;5;241m.\u001b[39m_load_map(\u001b[38;5;124m\"\u001b[39m\u001b[38;5;124mempirical\u001b[39m\u001b[38;5;124m\"\u001b[39m)\n\u001b[1;32m     26\u001b[0m \u001b[38;5;28mself\u001b[39m\u001b[38;5;241m.\u001b[39mvariance_explained \u001b[38;5;241m=\u001b[39m \u001b[38;5;28mself\u001b[39m\u001b[38;5;241m.\u001b[39m_load_map(\u001b[38;5;124m\"\u001b[39m\u001b[38;5;124mvariance_explained\u001b[39m\u001b[38;5;124m\"\u001b[39m)\n\u001b[0;32m---> 27\u001b[0m \u001b[38;5;28mself\u001b[39m\u001b[38;5;241m.\u001b[39mcurvature \u001b[38;5;241m=\u001b[39m \u001b[38;5;28;43mself\u001b[39;49m\u001b[38;5;241;43m.\u001b[39;49m\u001b[43m_load_map\u001b[49m\u001b[43m(\u001b[49m\u001b[38;5;124;43m\"\u001b[39;49m\u001b[38;5;124;43mcurvature\u001b[39;49m\u001b[38;5;124;43m\"\u001b[39;49m\u001b[43m)\u001b[49m\n\u001b[1;32m     29\u001b[0m \u001b[38;5;28;01mif\u001b[39;00m \u001b[38;5;28mself\u001b[39m\u001b[38;5;241m.\u001b[39msplit_half \u001b[38;5;129;01mis\u001b[39;00m \u001b[38;5;129;01mnot\u001b[39;00m \u001b[38;5;28;01mNone\u001b[39;00m:\n\u001b[1;32m     30\u001b[0m     \u001b[38;5;28mself\u001b[39m\u001b[38;5;241m.\u001b[39mempirical_map_split2 \u001b[38;5;241m=\u001b[39m \u001b[38;5;28mself\u001b[39m\u001b[38;5;241m.\u001b[39m_load_map(\u001b[38;5;124m\"\u001b[39m\u001b[38;5;124mempirical_split2\u001b[39m\u001b[38;5;124m\"\u001b[39m)\n",
      "File \u001b[0;32m~/Projects/deepRetinotopy_validation/notebooks/../functions/datasets.py:237\u001b[0m, in \u001b[0;36mRetinotopyData_logbar._load_map\u001b[0;34m(self, map_type)\u001b[0m\n\u001b[1;32m    235\u001b[0m     file_name \u001b[38;5;241m=\u001b[39m \u001b[38;5;124mf\u001b[39m\u001b[38;5;124m\"\u001b[39m\u001b[38;5;124msurf/\u001b[39m\u001b[38;5;132;01m{\u001b[39;00m\u001b[38;5;28mself\u001b[39m\u001b[38;5;241m.\u001b[39msubject_id\u001b[38;5;132;01m}\u001b[39;00m\u001b[38;5;124m.fs_empirical_variance_explained_\u001b[39m\u001b[38;5;132;01m{\u001b[39;00m\u001b[38;5;28mself\u001b[39m\u001b[38;5;241m.\u001b[39mexperiment\u001b[38;5;132;01m}\u001b[39;00m\u001b[38;5;124m_\u001b[39m\u001b[38;5;132;01m{\u001b[39;00m\u001b[38;5;28mself\u001b[39m\u001b[38;5;241m.\u001b[39mhemisphere\u001b[38;5;132;01m}\u001b[39;00m\u001b[38;5;124m.func.gii\u001b[39m\u001b[38;5;124m\"\u001b[39m\n\u001b[1;32m    236\u001b[0m \u001b[38;5;28;01melse\u001b[39;00m:\n\u001b[0;32m--> 237\u001b[0m     \u001b[38;5;28;01mraise\u001b[39;00m \u001b[38;5;167;01mValueError\u001b[39;00m(\u001b[38;5;124m\"\u001b[39m\u001b[38;5;124mInvalid map type specified.\u001b[39m\u001b[38;5;124m\"\u001b[39m)\n\u001b[1;32m    239\u001b[0m file_path \u001b[38;5;241m=\u001b[39m osp\u001b[38;5;241m.\u001b[39mjoin(\u001b[38;5;28mself\u001b[39m\u001b[38;5;241m.\u001b[39mpath, \u001b[38;5;28mself\u001b[39m\u001b[38;5;241m.\u001b[39msubject_id, file_name)\n\u001b[1;32m    240\u001b[0m data \u001b[38;5;241m=\u001b[39m np\u001b[38;5;241m.\u001b[39marray(nib\u001b[38;5;241m.\u001b[39mload(file_path)\u001b[38;5;241m.\u001b[39magg_data())\u001b[38;5;241m.\u001b[39mreshape(\u001b[38;5;28mself\u001b[39m\u001b[38;5;241m.\u001b[39mnumber_hemi_nodes, \u001b[38;5;241m-\u001b[39m\u001b[38;5;241m1\u001b[39m)\n",
      "\u001b[0;31mValueError\u001b[0m: Invalid map type specified."
     ]
    }
   ],
   "source": [
    "dataset_name = 'logbar'\n",
    "path = '/BULK/LABDATA/openneuro/logbar-updated/ds004698/derivatives/freesurfer/'\n",
    "retinotopic_maps = ['polarAngle', 'eccentricity', 'pRFsize']\n",
    "\n",
    "for hemispheres in ['both',]:\n",
    "    for threshold in [0.1]:\n",
    "            for experiment in ['logbar', 'fixedbar']:\n",
    "                predicted_vs_empirical(path, dataset_name, retinotopic_maps, hemispheres = hemispheres, \n",
    "                                    threshold=threshold, experiment=experiment, region_of_interest = 'earlyvisualcortex')"
   ]
  },
  {
   "cell_type": "code",
   "execution_count": null,
   "metadata": {},
   "outputs": [],
   "source": []
  }
 ],
 "metadata": {
  "kernelspec": {
   "display_name": "deepretinotopy_validation",
   "language": "python",
   "name": "python3"
  },
  "language_info": {
   "codemirror_mode": {
    "name": "ipython",
    "version": 3
   },
   "file_extension": ".py",
   "mimetype": "text/x-python",
   "name": "python",
   "nbconvert_exporter": "python",
   "pygments_lexer": "ipython3",
   "version": "3.8.20"
  }
 },
 "nbformat": 4,
 "nbformat_minor": 2
}
